{
 "cells": [
  {
   "cell_type": "code",
   "execution_count": 1,
   "metadata": {
    "collapsed": true
   },
   "outputs": [],
   "source": [
    "def read_config():\n",
    "\n",
    "    stage_config = {}\n",
    "    config_collection = []\n",
    "    paraIndex = ''\n",
    "\n",
    "    try:\n",
    "        with open('./configdemo.txt', 'r') as config_inFile:\n",
    "\n",
    "            for line in config_inFile:\n",
    "                # if it is a config block and non-empty\n",
    "                # add the dictionary to our collection\n",
    "                if _isInstrumentBlock(line) and len(stage_config) > 1:\n",
    "                    config_collection.append(stage_config)\n",
    "                    stage_config = {}\n",
    "\n",
    "                # Set the key for the dictionary\n",
    "                if _isInstrumentBlock(line):\n",
    "                    paraIndex = 'Stage'\n",
    "\n",
    "                if _isDeviceDesignator(line):\n",
    "                    paraIndex = line[1]\n",
    "\n",
    "                # Set the value for the dictionary\n",
    "                if _isInformation(line):\n",
    "                    stage_config[paraIndex]=line[0:-1] # add to collection\n",
    "\n",
    "    except Exception as e:\n",
    "        print 'Problem with config file:\\n' + str(e)\n",
    "\n",
    "    return config_collection"
   ]
  },
  {
   "cell_type": "code",
   "execution_count": 2,
   "metadata": {
    "collapsed": true
   },
   "outputs": [],
   "source": [
    "def _isInformation(line):\n",
    "    '''determines if a line is device information'''\n",
    "    if line[0] != '#' and line:\n",
    "        return True\n",
    "    else:\n",
    "        return False\n",
    "\n",
    "def _isDeviceDesignator(line):\n",
    "    '''Determines if line is device designator'''\n",
    "    if line[0] == '#' and line[1] != '#':\n",
    "        return True\n",
    "    else:\n",
    "        return False\n",
    "\n",
    "def _isInstrumentBlock(line):\n",
    "    '''Determines if the line in the config file is beginning or ending a instrument block'''\n",
    "    if line[0:2] == '##':\n",
    "        return True\n",
    "    else:\n",
    "        return False"
   ]
  },
  {
   "cell_type": "code",
   "execution_count": 3,
   "metadata": {},
   "outputs": [
    {
     "data": {
      "text/plain": [
       "[{'O': 'E', 'Stage': 'O', 'X': 'COM12', 'Y': 'COM13', 'Z': 'COM14'},\n",
       " {'A': '-0.53',\n",
       "  'O': 'W',\n",
       "  'Stage': 'O',\n",
       "  'X': 'COM19',\n",
       "  'Y': 'COM18',\n",
       "  'Z': 'COM20'},\n",
       " {'A': '0.122', 'O': 'S', 'Stage': 'E', 'X': 'COM8', 'Y': 'COM5', 'Z': 'COM6'},\n",
       " {'E': 'EMPTY', 'O': 'S', 'R': 'COM3', 'Stage': 'C', 'W': 'EMPTY'},\n",
       " {'A': 'GPIB0::24::INSTR', 'O': 'AndoAQ4321', 'Stage': 'M'},\n",
       " {'A': 'GPIB0::14::INSTR', 'O': 'HP8163A', 'Stage': 'M'},\n",
       " {'A': 'GPIB0::21::INSTR', 'O': 'Keithley2400', 'Stage': 'M'},\n",
       " {'A': 'GPIB0::23::INSTR', 'O': 'AnritsuMS2667C', 'Stage': 'M'},\n",
       " {'A': 'GPIB0::28::INSTR', 'O': 'RSY01', 'Stage': 'M'},\n",
       " {'A': 'COM4', 'O': 'AEDFA_IL_23_B_FA', 'Stage': 'M'}]"
      ]
     },
     "execution_count": 3,
     "metadata": {},
     "output_type": "execute_result"
    }
   ],
   "source": [
    "read_config()"
   ]
  }
 ],
 "metadata": {
  "kernelspec": {
   "display_name": "Python 2",
   "language": "python",
   "name": "python2"
  },
  "language_info": {
   "codemirror_mode": {
    "name": "ipython",
    "version": 2
   },
   "file_extension": ".py",
   "mimetype": "text/x-python",
   "name": "python",
   "nbconvert_exporter": "python",
   "pygments_lexer": "ipython2",
   "version": "2.7.11"
  }
 },
 "nbformat": 4,
 "nbformat_minor": 2
}
