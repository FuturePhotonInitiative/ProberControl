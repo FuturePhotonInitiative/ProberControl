{
 "cells": [
  {
   "cell_type": "code",
   "execution_count": 1,
   "metadata": {
    "scrolled": false
   },
   "outputs": [
    {
     "ename": "ImportError",
     "evalue": "No module named Polatis",
     "output_type": "error",
     "traceback": [
      "\u001b[1;31m---------------------------------------------------------------------------\u001b[0m",
      "\u001b[1;31mImportError\u001b[0m                               Traceback (most recent call last)",
      "\u001b[1;32m<ipython-input-1-dd3bcd89a3fb>\u001b[0m in \u001b[0;36m<module>\u001b[1;34m()\u001b[0m\n\u001b[1;32m----> 1\u001b[1;33m \u001b[1;32mimport\u001b[0m \u001b[0mPolatis\u001b[0m\u001b[1;33m\u001b[0m\u001b[0m\n\u001b[0m\u001b[0;32m      2\u001b[0m \u001b[1;32mimport\u001b[0m \u001b[0mvisa\u001b[0m\u001b[1;33m\u001b[0m\u001b[0m\n\u001b[0;32m      3\u001b[0m \u001b[0mrm\u001b[0m \u001b[1;33m=\u001b[0m \u001b[0mvisa\u001b[0m\u001b[1;33m.\u001b[0m\u001b[0mResourceManager\u001b[0m\u001b[1;33m(\u001b[0m\u001b[1;33m)\u001b[0m\u001b[1;33m\u001b[0m\u001b[0m\n\u001b[0;32m      4\u001b[0m \u001b[0mrm\u001b[0m\u001b[1;33m.\u001b[0m\u001b[0mlist_resources\u001b[0m\u001b[1;33m(\u001b[0m\u001b[1;33m)\u001b[0m\u001b[1;33m\u001b[0m\u001b[0m\n\u001b[0;32m      5\u001b[0m \u001b[1;33m\u001b[0m\u001b[0m\n",
      "\u001b[1;31mImportError\u001b[0m: No module named Polatis"
     ]
    }
   ],
   "source": [
    "import Polatis\n",
    "import visa\n",
    "rm = visa.ResourceManager()\n",
    "rm.list_resources()\n",
    "\n",
    "p = Polatis.Polatis()"
   ]
  },
  {
   "cell_type": "markdown",
   "metadata": {},
   "source": [
    "### Reading from the ProberConfig.conf file at initial boot"
   ]
  },
  {
   "cell_type": "code",
   "execution_count": null,
   "metadata": {
    "collapsed": true
   },
   "outputs": [],
   "source": [
    "configFile= [\n",
    " {'A': 'GPIB0::3::INSTR', 'P': '1::17', 'O': 'SantecTSL210H', 'Stage': 'M'},\n",
    " {'A': 'GPIB0::10::INSTR', 'P': '2,3,4::18,19,20', 'O': 'HP8163A', 'Stage': 'M'},\n",
    " {'A': 'GPIB0::7::INSTR', 'P': '5,6,7::21,22,23', 'O': 'Wiltron68145B', 'Stage': 'M'},\n",
    " {'A': 'GPIB0::23::INSTR', 'P': '15::30', 'O': 'AnritsuMS2667C', 'Stage': 'M'}\n",
    "]\n",
    "\n",
    "stages = {}"
   ]
  },
  {
   "cell_type": "code",
   "execution_count": null,
   "metadata": {
    "collapsed": true
   },
   "outputs": [],
   "source": [
    "integration = SwitchIntegration(configFile, stages, p)"
   ]
  },
  {
   "cell_type": "code",
   "execution_count": null,
   "metadata": {
    "collapsed": true
   },
   "outputs": [],
   "source": [
    "holder = integration.switch_book"
   ]
  },
  {
   "cell_type": "code",
   "execution_count": null,
   "metadata": {
    "collapsed": true
   },
   "outputs": [],
   "source": [
    "holder"
   ]
  },
  {
   "cell_type": "code",
   "execution_count": null,
   "metadata": {
    "collapsed": true
   },
   "outputs": [],
   "source": [
    "p.get_zip_connections()"
   ]
  },
  {
   "cell_type": "code",
   "execution_count": null,
   "metadata": {
    "collapsed": true
   },
   "outputs": [],
   "source": [
    "p.quick_connect(15, 17)"
   ]
  },
  {
   "cell_type": "code",
   "execution_count": null,
   "metadata": {
    "collapsed": true
   },
   "outputs": [],
   "source": [
    "p.get_zip_connections()"
   ]
  },
  {
   "cell_type": "code",
   "execution_count": null,
   "metadata": {
    "collapsed": true
   },
   "outputs": [],
   "source": [
    "def _hasChangedOutput(entry, pair):\n",
    "    \n",
    "    return pair[0] == entry['ingress'] and pair[1] != entry['egress']\n",
    "\n",
    "def _hasLostOutput(entry, pair):\n",
    "\n",
    "    return entry['ingress'] not in [i[0] for i in actual]\n",
    "\n",
    "actual = p.get_zip_connections()\n",
    "for entry in holder:\n",
    "    for pair in actual:\n",
    "        if _hasChangedOutput(entry, pair): # then this device changed output\n",
    "            entry['egress'] = pair[1]\n",
    "        elif _hasLostOutput(entry, pair): # then this device changed output\n",
    "            entry['egress'] = ''"
   ]
  },
  {
   "cell_type": "code",
   "execution_count": null,
   "metadata": {
    "collapsed": true
   },
   "outputs": [],
   "source": []
  },
  {
   "cell_type": "code",
   "execution_count": null,
   "metadata": {
    "collapsed": true
   },
   "outputs": [],
   "source": [
    "def _updateSwitchBook(self):\n",
    "    '''Updates the global switch_book following a new connection being made'''\n",
    "    \n",
    "    actual = self._p.get_zip_connections()\n",
    "    for entry in self.switch_book:\n",
    "        for pair in actual:\n",
    "            if self._hasChangedOutput(entry, pair): # then this device changed output\n",
    "                entry['egress'] = pair[1]\n",
    "            elif self._hasLostOutput(entry, pair): # then this device changed output\n",
    "                entry['egress'] = ''"
   ]
  },
  {
   "cell_type": "code",
   "execution_count": null,
   "metadata": {
    "collapsed": true
   },
   "outputs": [],
   "source": []
  },
  {
   "cell_type": "markdown",
   "metadata": {},
   "source": [
    "## Internal functions"
   ]
  },
  {
   "cell_type": "code",
   "execution_count": null,
   "metadata": {
    "collapsed": true
   },
   "outputs": [],
   "source": [
    "# import Polatis\n",
    "\n",
    "class SwitchIntegration(object):\n",
    "    '''The intention of this class if to provide an implementation of the Polatis switch.\n",
    "    The key features of the class are get_switch_state(), make_new_connection() and switch_book object.'''\n",
    "\n",
    "    def __init__(self, configFile, stages, polatis):\n",
    "\n",
    "        self._p = polatis\n",
    "\n",
    "        self.switch_book = self._readIn(configFile)\n",
    "        self._connect()\n",
    "        # self._constructComparable() # I dont think I need this anymore because we've moved to single association entries \n",
    "        self._integrateStages(stages)\n",
    "\n",
    "    def get_switch_state(self):\n",
    "        '''\n",
    "        Queries all current connections.\n",
    "\n",
    "        :returns: String of all connections between devices\n",
    "        '''\n",
    "        \n",
    "        formatted_output = \"\"\n",
    "        for entry in self.switch_book:\n",
    "            formatted_output += \"{:15} {:20}{:3} {:5} {:10}\\n\".format(\n",
    "            'Device',entry['device'],entry['ingress'],\"-->\",entry['egress']\n",
    "            )\n",
    "        return formatted_output\n",
    "\n",
    "#     def _formatPort(self, entry):\n",
    "#         '''internal use'''\n",
    "        \n",
    "#         return toReturn\n",
    "\n",
    "#     def _formatInactivePort(self, entry):\n",
    "#         '''internal use'''\n",
    "#         toReturn = \"{:15} {:20} Ports: {:5}\\n\".format(\n",
    "#             'Not in use:',entry['device'], entry['ingress'].split(',')\n",
    "#         )\n",
    "#         return toReturn\n",
    "\n",
    "##############################################################################\n",
    "    def make_new_connection(self, ingress, egress): # stays the same\n",
    "        '''\n",
    "        User specified connection between device ingress port and output port.\n",
    "\n",
    "        :param ingress: Specified input port\n",
    "        :type ingress: Int\n",
    "        :param egress: Specified output port\n",
    "        :type egress: Int\n",
    "        '''\n",
    "        \n",
    "        self._p.quick_connect(ingress, egress)\n",
    "        self._updateSwitchBook()\n",
    "        \n",
    "##############################################################################\n",
    "    def _readIn(self, configFile):# Modified\n",
    "        '''Reads in the configFile info'''\n",
    "        switch_book_init = []\n",
    "        for entry in configFile:\n",
    "\n",
    "            ports = entry['P'].split('::')\n",
    "            ingress = ports[0].split(',')\n",
    "            egress = ports[1].split(',')\n",
    "            ports = zip(ingress, egress)\n",
    "\n",
    "            for pair in ports:\n",
    "                new_entry = {}\n",
    "                new_entry['ingress'] = pair[0]\n",
    "                new_entry['egress'] = pair[1]\n",
    "                new_entry['device'] = entry['O']\n",
    "                switch_book_init.append(new_entry)\n",
    "                \n",
    "        return switch_book_init\n",
    "            \n",
    "##############################################################################\n",
    "    def _connect(self):# Modified  \n",
    "        '''makes connections between ports for SwitchIntegration.__init__()'''\n",
    "        for entry in self.switch_book:\n",
    "            # Call function for making connections\n",
    "            self._p.quick_connect(\n",
    "                ingress=entry['ingress'],\n",
    "                egress=entry['egress']\n",
    "            )\n",
    "##############################################################################\n",
    "# potentially deprecated\n",
    "#     def _constructComparable(self):\n",
    "#         '''Constructs tuples for connections key in switch book'''\n",
    "        \n",
    "#         for entry in self.switch_book:\n",
    "#             new_value = []\n",
    "#             #Multi Association\n",
    "#             if len(entry['ingress']) != 1:\n",
    "#                 multi = self._multiConnHandler(entry)\n",
    "#                 for item in multi:\n",
    "#                     new_value.append(item)\n",
    "#             else:\n",
    "#                 #Single Association\n",
    "#                 new_value.append((entry['ingress'],entry['egress']))\n",
    "                \n",
    "#             entry['connections'] = new_value\n",
    "            \n",
    "#         self._cleanUp()\n",
    "\n",
    "#     def _cleanUp(self):\n",
    "#         '''cleans up the switch_book after boot'''\n",
    "#         for entry in self.switch_book:\n",
    "#             entry.pop('egress', None)\n",
    "\n",
    "#     def _multiConnHandler(self, entry):\n",
    "#         '''helper for __constructComparable()'''\n",
    "#         ingress = [i for i in entry['ingress'].split(',')]\n",
    "#         egress = [i for i in entry['egress'].split(',')]\n",
    "        \n",
    "#         return zip(ingress, egress)\n",
    "##############################################################################\n",
    "    def _integrateStages(self, stages): # Stays the same, keep it \n",
    "        '''Integrates the stages dictionary after boot'''\n",
    "        for actualObject in zip(stages.keys(), stages.values()):\n",
    "            for entry in self.switch_book:\n",
    "                if entry['device'] == str(actualObject[1]):\n",
    "                    entry['ref'] = actualObject[0]\n",
    "##############################################################################\n",
    "    def _updateSwitchBook(self): # modified\n",
    "        '''Updates the global switch_book following a new connection being made'''\n",
    "        actual = self._p.get_zip_connections()\n",
    "        for entry in self.switch_book:\n",
    "            for pair in actual:\n",
    "                if self._hasChangedOutput(entry, pair): # then this device changed output\n",
    "                    entry['egress'] = pair[1]\n",
    "                elif self._hasLostOutput(entry, pair, actual): # then this device changed output\n",
    "                    entry['egress'] = ''\n",
    "                    \n",
    "    def _hasChangedOutput(self, entry, pair):\n",
    "        '''helper for _updateSwitchBook'''\n",
    "        return pair[0] == entry['ingress'] and pair[1] != entry['egress']\n",
    "\n",
    "    def _hasLostOutput(self, entry, pair, actual):\n",
    "        '''helper for _updateSwitchBook'''\n",
    "        return entry['ingress'] not in [i[0] for i in actual]"
   ]
  },
  {
   "cell_type": "code",
   "execution_count": null,
   "metadata": {
    "collapsed": true
   },
   "outputs": [],
   "source": [
    "integration = SwitchIntegration(configFile=configFile,stages=stages,polatis=p)"
   ]
  },
  {
   "cell_type": "code",
   "execution_count": null,
   "metadata": {},
   "outputs": [],
   "source": [
    "print integration.get_switch_state()"
   ]
  },
  {
   "cell_type": "markdown",
   "metadata": {},
   "source": [
    "### Making connection between Antri 15 --> 29"
   ]
  },
  {
   "cell_type": "code",
   "execution_count": null,
   "metadata": {},
   "outputs": [],
   "source": [
    "integration.make_new_connection(15,29)\n",
    "print integration.get_switch_state()"
   ]
  },
  {
   "cell_type": "markdown",
   "metadata": {},
   "source": [
    "### Making a connection between Antri 15 --> 17\n",
    "- so Santec should read 1 --> \n",
    "- Antri should read 15 --> 17"
   ]
  },
  {
   "cell_type": "code",
   "execution_count": null,
   "metadata": {},
   "outputs": [],
   "source": [
    "integration.make_new_connection(15,17)\n",
    "print integration.get_switch_state()"
   ]
  },
  {
   "cell_type": "markdown",
   "metadata": {},
   "source": [
    "### Regaining connection between 1 --> something"
   ]
  },
  {
   "cell_type": "code",
   "execution_count": null,
   "metadata": {},
   "outputs": [],
   "source": [
    "integration.make_new_connection(1,25)\n",
    "print integration.get_switch_state()"
   ]
  },
  {
   "cell_type": "markdown",
   "metadata": {},
   "source": [
    "### Taking away 1 --> 25 connection and then giving 17 to 1"
   ]
  },
  {
   "cell_type": "code",
   "execution_count": null,
   "metadata": {},
   "outputs": [],
   "source": [
    "integration.make_new_connection(2,25)\n",
    "integration.make_new_connection(1,17)\n",
    "print integration.get_switch_state()"
   ]
  },
  {
   "cell_type": "code",
   "execution_count": null,
   "metadata": {
    "collapsed": true
   },
   "outputs": [],
   "source": [
    "# import Polatis\n",
    "\n",
    "class SwitchIntegration(object):\n",
    "    '''The intention of this class if to provide an implementation of the Polatis switch.\n",
    "    The key features of the class are get_switch_state(), make_new_connection() and switch_book object.'''\n",
    "\n",
    "    def __init__(self, configFile, stages, polatis):\n",
    "\n",
    "        self._p = polatis\n",
    "\n",
    "        self.switch_book = self._readIn(configFile)\n",
    "        self._connect()\n",
    "        self._integrateStages(stages)\n",
    "\n",
    "    def get_switch_state(self):\n",
    "        '''\n",
    "        Queries all current connections.\n",
    "\n",
    "        :returns: String of all connections between devices\n",
    "        '''\n",
    "        \n",
    "        formatted_output = \"\"\n",
    "        for entry in self.switch_book:\n",
    "            formatted_output += \"{:15} {:20}{:3} {:5} {:10}\\n\".format(\n",
    "            'Device',entry['device'],entry['ingress'],\"-->\",entry['egress']\n",
    "            )\n",
    "        return formatted_output\n",
    "\n",
    "    def make_new_connection(self, ingress, egress): \n",
    "        '''\n",
    "        User specified connection between device ingress port and output port.\n",
    "\n",
    "        :param ingress: Specified input port\n",
    "        :type ingress: Int\n",
    "        :param egress: Specified output port\n",
    "        :type egress: Int\n",
    "        '''\n",
    "        \n",
    "        self._p.quick_connect(ingress, egress)\n",
    "        self._updateSwitchBook()\n",
    "        \n",
    "\n",
    "    def _readIn(self, configFile):\n",
    "        '''Reads in the configFile info'''\n",
    "        switch_book_init = []\n",
    "        for entry in configFile:\n",
    "\n",
    "            ports = entry['P'].split('::')\n",
    "            ingress = ports[0].split(',')\n",
    "            egress = ports[1].split(',')\n",
    "            ports = zip(ingress, egress)\n",
    "\n",
    "            for pair in ports:\n",
    "                new_entry = {}\n",
    "                new_entry['ingress'] = pair[0]\n",
    "                new_entry['egress'] = pair[1]\n",
    "                new_entry['device'] = entry['O']\n",
    "                switch_book_init.append(new_entry)\n",
    "                \n",
    "        return switch_book_init\n",
    "            \n",
    "    def _connect(self):\n",
    "        '''makes connections between ports for SwitchIntegration.__init__()'''\n",
    "        for entry in self.switch_book:\n",
    "            # Call function for making connections\n",
    "            self._p.quick_connect(\n",
    "                ingress=entry['ingress'],\n",
    "                egress=entry['egress']\n",
    "            )\n",
    "\n",
    "    def _integrateStages(self, stages):  \n",
    "        '''Integrates the stages dictionary after boot'''\n",
    "        for actualObject in zip(stages.keys(), stages.values()):\n",
    "            for entry in self.switch_book:\n",
    "                if entry['device'] == str(actualObject[1]):\n",
    "                    entry['ref'] = actualObject[0]\n",
    "\n",
    "    def _updateSwitchBook(self):\n",
    "        '''Updates the global switch_book following a new connection being made'''\n",
    "        actual = self._p.get_zip_connections()\n",
    "        for entry in self.switch_book:\n",
    "            for pair in actual:\n",
    "                if self._hasChangedOutput(entry, pair): # then this device changed output\n",
    "                    entry['egress'] = pair[1]\n",
    "                elif self._hasLostOutput(entry, pair, actual): # then this device changed output\n",
    "                    entry['egress'] = ''\n",
    "                    \n",
    "    def _hasChangedOutput(self, entry, pair):\n",
    "        '''helper for _updateSwitchBook'''\n",
    "        return pair[0] == entry['ingress'] and pair[1] != entry['egress']\n",
    "\n",
    "    def _hasLostOutput(self, entry, pair, actual):\n",
    "        '''helper for _updateSwitchBook'''\n",
    "        return entry['ingress'] not in [i[0] for i in actual]"
   ]
  }
 ],
 "metadata": {
  "kernelspec": {
   "display_name": "Python 2",
   "language": "python",
   "name": "python2"
  },
  "language_info": {
   "codemirror_mode": {
    "name": "ipython",
    "version": 2
   },
   "file_extension": ".py",
   "mimetype": "text/x-python",
   "name": "python",
   "nbconvert_exporter": "python",
   "pygments_lexer": "ipython2",
   "version": "2.7.11"
  }
 },
 "nbformat": 4,
 "nbformat_minor": 2
}
