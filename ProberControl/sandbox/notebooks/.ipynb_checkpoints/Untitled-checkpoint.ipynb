{
 "cells": [
  {
   "cell_type": "code",
   "execution_count": 34,
   "metadata": {
    "collapsed": true
   },
   "outputs": [],
   "source": [
    "import sys, os, string, inspect"
   ]
  },
  {
   "cell_type": "code",
   "execution_count": 182,
   "metadata": {},
   "outputs": [],
   "source": [
    "def myFunction():\n",
    "    cur =  inspect.currentframe()\n",
    "    # ID( of the object that called me verifying local namespace 'self' variable )\n",
    "    return id(inspect.stack(context=1)[1][0].f_locals['self'])\n",
    "\n",
    "class foo(object):\n",
    "    def __init__(self,active= True):\n",
    "        self.active = active\n",
    "\n",
    "    def isActive(self):\n",
    "        return myFunction()\n",
    "    \n",
    "    def getID(self):\n",
    "        return id(self)\n",
    "    \n",
    "class funk(object):\n",
    "    def __init__(self,active= True):\n",
    "        self.active = active\n",
    "\n",
    "    def isActive(self):\n",
    "        return myFunction()\n",
    "    \n",
    "    def getID(self):\n",
    "        return id(self)"
   ]
  },
  {
   "cell_type": "code",
   "execution_count": 180,
   "metadata": {},
   "outputs": [
    {
     "name": "stdout",
     "output_type": "stream",
     "text": [
      "<__main__.foo object at 0x03FE22D0>\n",
      "66986704\n",
      "<bound method foo.isActive of <__main__.foo object at 0x03FE22D0>>\n"
     ]
    }
   ],
   "source": [
    "bar = foo()\n",
    "print bar\n",
    "print id(bar)\n",
    "print bar.isActive"
   ]
  },
  {
   "cell_type": "code",
   "execution_count": 181,
   "metadata": {
    "scrolled": true
   },
   "outputs": [
    {
     "data": {
      "text/plain": [
       "True"
      ]
     },
     "execution_count": 181,
     "metadata": {},
     "output_type": "execute_result"
    }
   ],
   "source": [
    "bar.isActive() == id(bar)"
   ]
  },
  {
   "cell_type": "code",
   "execution_count": 183,
   "metadata": {},
   "outputs": [
    {
     "name": "stdout",
     "output_type": "stream",
     "text": [
      "<__main__.funk object at 0x03FE2CF0>\n",
      "66989296\n",
      "<unbound method funk.isActive>\n"
     ]
    }
   ],
   "source": [
    "funky = funk()\n",
    "print funky\n",
    "print id(funky)\n",
    "print funk.isActive"
   ]
  },
  {
   "cell_type": "code",
   "execution_count": 185,
   "metadata": {},
   "outputs": [
    {
     "data": {
      "text/plain": [
       "True"
      ]
     },
     "execution_count": 185,
     "metadata": {},
     "output_type": "execute_result"
    }
   ],
   "source": [
    "funky.isActive() == id(funky)"
   ]
  },
  {
   "cell_type": "code",
   "execution_count": 186,
   "metadata": {},
   "outputs": [
    {
     "data": {
      "text/plain": [
       "False"
      ]
     },
     "execution_count": 186,
     "metadata": {},
     "output_type": "execute_result"
    }
   ],
   "source": [
    "funky.isActive() == id(bar)"
   ]
  },
  {
   "cell_type": "code",
   "execution_count": 188,
   "metadata": {},
   "outputs": [
    {
     "data": {
      "text/plain": [
       "False"
      ]
     },
     "execution_count": 188,
     "metadata": {},
     "output_type": "execute_result"
    }
   ],
   "source": [
    "funky.isActive() == bar.isActive()"
   ]
  },
  {
   "cell_type": "code",
   "execution_count": null,
   "metadata": {
    "collapsed": true
   },
   "outputs": [],
   "source": []
  }
 ],
 "metadata": {
  "kernelspec": {
   "display_name": "Python 2",
   "language": "python",
   "name": "python2"
  },
  "language_info": {
   "codemirror_mode": {
    "name": "ipython",
    "version": 2
   },
   "file_extension": ".py",
   "mimetype": "text/x-python",
   "name": "python",
   "nbconvert_exporter": "python",
   "pygments_lexer": "ipython2",
   "version": "2.7.11"
  }
 },
 "nbformat": 4,
 "nbformat_minor": 2
}
