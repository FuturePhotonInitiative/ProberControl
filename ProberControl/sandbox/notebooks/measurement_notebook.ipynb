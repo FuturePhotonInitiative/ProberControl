{
 "cells": [
  {
   "cell_type": "code",
   "execution_count": 20,
   "metadata": {
    "collapsed": true
   },
   "outputs": [],
   "source": [
    "def read_measure(path):\n",
    "\n",
    "    measurement = {}\n",
    "    measurement_collection = []\n",
    "    key = ''\n",
    "\n",
    "    try:\n",
    "        with open(path, 'r') as measurementFile:\n",
    "\n",
    "            for line in measurementFile:\n",
    "                if not key:\n",
    "                    if _isDesignator(line, 'stage'):\n",
    "                        key = 'stage'\n",
    "\n",
    "                    if _isDesignator(line, 'measurement'):\n",
    "                        key = 'MeasurementName'\n",
    "\n",
    "                    if _isDesignator(line, 'structure'):\n",
    "                        key = 'Str'\n",
    "\n",
    "                    if _isDesignator(line, 'function'):\n",
    "                        key = 'Fun'\n",
    "\n",
    "                    if _isDesignator(line, 'arguments'):\n",
    "                        key = 'Arg'   \n",
    "                else:\n",
    "                    line = line.strip()\n",
    "                    if key is 'Arg':\n",
    "                        measurement[key]=[str(i) for i in line.split(' ')]\n",
    "                    else:\n",
    "                        measurement[key]=line\n",
    "                    key = ''\n",
    "\n",
    "                if line == '\\n':\n",
    "                    measurement_collection.append(measurement)\n",
    "                    measurement = {}\n",
    "\n",
    "        if len(measurement_collection) == 0:\n",
    "            print(\"Something might be wrong with your Measurement.conf, read-in is empty.\")\n",
    "\n",
    "        return measurement_collection\n",
    "\n",
    "\n",
    "    except Exception as e:\n",
    "        print 'Problem with config file:\\n' + str(e)\n",
    "    \n",
    "def _isDesignator(line, designation):\n",
    "    ''''''\n",
    "    if line[0] == '#' and designation in line.lower():\n",
    "        return True\n",
    "    else:\n",
    "        return False"
   ]
  },
  {
   "cell_type": "code",
   "execution_count": 21,
   "metadata": {},
   "outputs": [
    {
     "data": {
      "text/plain": [
       "[{'Arg': ['1550'], 'Fun': 'get_power', 'stage': 'MPowerMeter1'},\n",
       " {'Arg': ['1550'], 'Fun': 'get_power', 'stage': 'MPowerMeter2'},\n",
       " {'Arg': ['1550'], 'Fun': 'get_power', 'stage': 'MPowerMeter1'},\n",
       " {'Arg': ['1550'], 'Fun': 'get_power', 'stage': 'MPowerMeter2'}]"
      ]
     },
     "execution_count": 21,
     "metadata": {},
     "output_type": "execute_result"
    }
   ],
   "source": [
    "read_measure('./gppTest.meas')"
   ]
  },
  {
   "cell_type": "code",
   "execution_count": 14,
   "metadata": {},
   "outputs": [
    {
     "name": "stdout",
     "output_type": "stream",
     "text": [
      " Volume in drive C has no label.\n",
      " Volume Serial Number is 5EC7-4A5F\n",
      "\n",
      " Directory of C:\\Users\\Graham\\Documents\\CodeRepository2\\AutoProber\\sandbox\\notebooks\n",
      "\n",
      "07/25/2017  11:12 AM    <DIR>          .\n",
      "07/25/2017  11:12 AM    <DIR>          ..\n",
      "07/25/2017  10:58 AM    <DIR>          .ipynb_checkpoints\n",
      "06/23/2017  11:34 AM             3,830 configurationTesting.ipynb\n",
      "07/25/2017  11:08 AM               296 gppTest.meas\n",
      "06/22/2017  02:26 PM             1,877 importTesting.ipynb\n",
      "07/25/2017  11:12 AM             5,860 measurement_notebook.ipynb\n",
      "07/06/2017  01:12 PM             6,020 multiLaser_read_config_workbook.ipynb\n",
      "06/26/2017  09:33 AM               927 playground.ipynb\n",
      "06/28/2017  02:34 PM             4,269 static_variables_workbook.ipynb\n",
      "06/26/2017  09:08 AM            18,776 switch_integration_workbook.ipynb\n",
      "07/25/2017  11:04 AM             1,027 Untitled.ipynb\n",
      "               9 File(s)         42,882 bytes\n",
      "               3 Dir(s)  145,695,068,160 bytes free\n"
     ]
    }
   ],
   "source": [
    "!dir"
   ]
  },
  {
   "cell_type": "code",
   "execution_count": null,
   "metadata": {
    "collapsed": true
   },
   "outputs": [],
   "source": [
    "# def run_meas_script(stages,maitre,meas_path='Measurements.conf',coord_path='Coordinates.conf',results_path='Results.meas'):\n",
    "#     MeasList=read_measurement_file(meas_path)\n",
    "    \n",
    "#     result_file = open(results_path,\"w\")\n",
    "#     result_file.close()\n",
    "    \n",
    "#     for meas in MeasList:\n",
    "#         if not connecting.connect_structure(stages,maitre , coord_path, meas['Str']):\n",
    "#             print \"Skipping this measurement\"\n",
    "#         else:\n",
    "#             args = [stages,maitre]\n",
    "#             for elem in meas[\"Arg\"]:\n",
    "#                 args.append(elem)\n",
    "\n",
    "#             data = maitre.execute_func_name('Measure',meas['Fun'],args)\n",
    "            \n",
    "#             result_file = open(results_path,\"a\")\n",
    "#             result_file.write(meas['MeasurmentName']+': \\n')\n",
    "#             _write_csv(result_file,data)\n",
    "#             result_file.write('\\n\\n')\n",
    "#             result_file.close()"
   ]
  },
  {
   "cell_type": "code",
   "execution_count": 2,
   "metadata": {
    "collapsed": true
   },
   "outputs": [],
   "source": [
    "def run_measurement_script(\n",
    "    stages,maitre,meas_path='Measurements.conf',\n",
    "    coord_path='Coordinates.conf',\n",
    "    results_path='Results.meas'):\n",
    "    \n",
    "    measurement_collection = read_measure(meas_path)\n",
    "    \n",
    "    with open(results_path, 'w') as result_file:\n",
    "        \n",
    "        for measurement in measurement_collection:\n",
    "            if not connecting.connect_structure(stages, maitre, coord_path, measurement['Str']):\n",
    "                pass\n",
    "            else: # Execute the measurement\n",
    "                args = [stages,maitre]\n",
    "                for element in measurement['Arg']:\n",
    "                    args.append(element)\n",
    "                    \n",
    "                data = maitre.execute_func_name('Measure', measurement['Fun'],args)\n",
    "                \n",
    "                result_file.write('{}:\\n'.format(measurement['MeasurementName']))\n",
    "                _writeData(result_file, data)\n",
    "                result_file.write('\\n\\n')"
   ]
  },
  {
   "cell_type": "code",
   "execution_count": 3,
   "metadata": {
    "collapsed": true
   },
   "outputs": [],
   "source": [
    "def _writeData(openFile, data):\n",
    "    \n",
    "    for element in data.split():\n",
    "        openFile.write('{}\\t'.format(str(element)))\n",
    "    openFile.write('\\n')"
   ]
  },
  {
   "cell_type": "code",
   "execution_count": 13,
   "metadata": {
    "collapsed": true
   },
   "outputs": [],
   "source": [
    "script = [{'Arg': ['1550'], 'Fun': 'get_power', 'stage': 'MPowerMeter1'},\n",
    " {'Arg': ['1550'], 'Fun': 'get_power', 'stage': 'MPowerMeter2'},\n",
    " {'Arg': ['1550'], 'Fun': 'get_power', 'stage': 'MPowerMeter1'},\n",
    " {'Arg': ['1550'], 'Fun': 'get_power', 'stage': 'MPowerMeter2'}]"
   ]
  },
  {
   "cell_type": "code",
   "execution_count": 20,
   "metadata": {},
   "outputs": [
    {
     "data": {
      "text/plain": [
       "\",\\n {'Arg': ['1550'], 'Fun': 'get_power', 'stage': 'MPowerMeter2'},\\n {'Arg': ['1550'], 'Fun': 'get_power', 'stage': 'MPowerMeter1'},\\n {'Arg': ['1550'], 'Fun': 'get_power', 'stage': 'MPowerMeter2'}]\""
      ]
     },
     "execution_count": 20,
     "metadata": {},
     "output_type": "execute_result"
    }
   ],
   "source": [
    "script2 = [{'Arg': ['1551'], 'Fun': 'get_power', 'stage': 'MPowerMeter1'}]\n",
    "''',\n",
    " {'Arg': ['1550'], 'Fun': 'get_power', 'stage': 'MPowerMeter2'},\n",
    " {'Arg': ['1550'], 'Fun': 'get_power', 'stage': 'MPowerMeter1'},\n",
    " {'Arg': ['1550'], 'Fun': 'get_power', 'stage': 'MPowerMeter2'}]'''"
   ]
  },
  {
   "cell_type": "code",
   "execution_count": 39,
   "metadata": {},
   "outputs": [],
   "source": [
    "hash1 = hash(''.join([str(i) for i in script]))*-1"
   ]
  },
  {
   "cell_type": "code",
   "execution_count": 37,
   "metadata": {},
   "outputs": [],
   "source": [
    "hash2 = hash(''.join([str(i) for i in script2]))"
   ]
  },
  {
   "cell_type": "code",
   "execution_count": 40,
   "metadata": {},
   "outputs": [
    {
     "name": "stdout",
     "output_type": "stream",
     "text": [
      "190386320 -2033669487\n"
     ]
    }
   ],
   "source": [
    "print (str(hash1) + \" \" + str(hash2))"
   ]
  },
  {
   "cell_type": "code",
   "execution_count": null,
   "metadata": {
    "collapsed": true
   },
   "outputs": [],
   "source": []
  },
  {
   "cell_type": "code",
   "execution_count": null,
   "metadata": {
    "collapsed": true
   },
   "outputs": [],
   "source": []
  }
 ],
 "metadata": {
  "kernelspec": {
   "display_name": "Python 2",
   "language": "python",
   "name": "python2"
  },
  "language_info": {
   "codemirror_mode": {
    "name": "ipython",
    "version": 2
   },
   "file_extension": ".py",
   "mimetype": "text/x-python",
   "name": "python",
   "nbconvert_exporter": "python",
   "pygments_lexer": "ipython2",
   "version": "2.7.11"
  }
 },
 "nbformat": 4,
 "nbformat_minor": 2
}
