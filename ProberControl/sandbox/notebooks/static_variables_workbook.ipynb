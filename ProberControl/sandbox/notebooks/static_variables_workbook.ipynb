{
 "cells": [
  {
   "cell_type": "markdown",
   "metadata": {},
   "source": [
    "# Modeling the laser classes \n",
    "#### For implementing multi-channel lasers"
   ]
  },
  {
   "cell_type": "code",
   "execution_count": 9,
   "metadata": {},
   "outputs": [],
   "source": [
    "class Santec(object):\n",
    "    channel = 0\n",
    "    \n",
    "    def __init__(self):\n",
    "        Santec.channel = Santec.channel + 1\n",
    "        self.channel = Santec.channel\n",
    "    \n",
    "    def whoAmI(self):\n",
    "        return 'LaserSantec'+ str(self.channel)\n",
    "    \n",
    "    def availableChannels(self):\n",
    "        return 6\n",
    "    \n",
    "class Ando(object):\n",
    "    channel = 0\n",
    "    \n",
    "    def __init__(self):\n",
    "        Ando.channel = Ando.channel + 1\n",
    "        self.channel = Ando.channel\n",
    "    \n",
    "    def whoAmI(self):\n",
    "        return 'LaserAndo'+ str(self.channel)\n",
    "    \n",
    "    def availableChannels(self):\n",
    "        return 4"
   ]
  },
  {
   "cell_type": "code",
   "execution_count": 10,
   "metadata": {
    "scrolled": true
   },
   "outputs": [
    {
     "data": {
      "text/plain": [
       "'LaserSantec1'"
      ]
     },
     "execution_count": 10,
     "metadata": {},
     "output_type": "execute_result"
    }
   ],
   "source": [
    "q = Santec()\n",
    "q.whoAmI()"
   ]
  },
  {
   "cell_type": "code",
   "execution_count": 11,
   "metadata": {},
   "outputs": [],
   "source": [
    "lasers = [q]\n",
    "for i in range(1, q.availableChannels()):\n",
    "    lasers.append(Santec())"
   ]
  },
  {
   "cell_type": "code",
   "execution_count": 12,
   "metadata": {},
   "outputs": [
    {
     "data": {
      "text/plain": [
       "[<__main__.Santec at 0x3852bf0>,\n",
       " <__main__.Santec at 0x3852fd0>,\n",
       " <__main__.Santec at 0x3852610>,\n",
       " <__main__.Santec at 0x3852ab0>,\n",
       " <__main__.Santec at 0x3852910>,\n",
       " <__main__.Santec at 0x3852d90>]"
      ]
     },
     "execution_count": 12,
     "metadata": {},
     "output_type": "execute_result"
    }
   ],
   "source": [
    "lasers"
   ]
  },
  {
   "cell_type": "code",
   "execution_count": 13,
   "metadata": {
    "scrolled": true
   },
   "outputs": [
    {
     "name": "stdout",
     "output_type": "stream",
     "text": [
      "LaserSantec1\n",
      "LaserSantec2\n",
      "LaserSantec3\n",
      "LaserSantec4\n",
      "LaserSantec5\n",
      "LaserSantec6\n"
     ]
    }
   ],
   "source": [
    "for i in lasers:\n",
    "    print i.whoAmI()"
   ]
  },
  {
   "cell_type": "code",
   "execution_count": 14,
   "metadata": {},
   "outputs": [
    {
     "data": {
      "text/plain": [
       "'LaserAndo1'"
      ]
     },
     "execution_count": 14,
     "metadata": {},
     "output_type": "execute_result"
    }
   ],
   "source": [
    "r = Ando()\n",
    "r.whoAmI()"
   ]
  },
  {
   "cell_type": "code",
   "execution_count": 15,
   "metadata": {
    "collapsed": true
   },
   "outputs": [],
   "source": [
    "lasers.append(r)\n",
    "for i in range(1, r.availableChannels()):\n",
    "    lasers.append(Ando())"
   ]
  },
  {
   "cell_type": "code",
   "execution_count": 16,
   "metadata": {},
   "outputs": [
    {
     "name": "stdout",
     "output_type": "stream",
     "text": [
      "LaserSantec1\n",
      "LaserSantec2\n",
      "LaserSantec3\n",
      "LaserSantec4\n",
      "LaserSantec5\n",
      "LaserSantec6\n",
      "LaserAndo1\n",
      "LaserAndo2\n",
      "LaserAndo3\n",
      "LaserAndo4\n"
     ]
    }
   ],
   "source": [
    "for i in lasers:\n",
    "    print i.whoAmI()"
   ]
  },
  {
   "cell_type": "code",
   "execution_count": null,
   "metadata": {
    "collapsed": true
   },
   "outputs": [],
   "source": []
  }
 ],
 "metadata": {
  "kernelspec": {
   "display_name": "Python 2",
   "language": "python",
   "name": "python2"
  },
  "language_info": {
   "codemirror_mode": {
    "name": "ipython",
    "version": 2
   },
   "file_extension": ".py",
   "mimetype": "text/x-python",
   "name": "python",
   "nbconvert_exporter": "python",
   "pygments_lexer": "ipython2",
   "version": "2.7.11"
  }
 },
 "nbformat": 4,
 "nbformat_minor": 2
}
