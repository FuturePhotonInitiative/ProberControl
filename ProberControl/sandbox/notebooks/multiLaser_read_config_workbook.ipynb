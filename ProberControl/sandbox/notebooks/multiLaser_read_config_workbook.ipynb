{
 "cells": [
  {
   "cell_type": "code",
   "execution_count": 1,
   "metadata": {
    "collapsed": true
   },
   "outputs": [],
   "source": [
    "# FUNCTION DEFINTIONS\n",
    "def read_config():\n",
    "    '''\n",
    "    :raises: Exception\n",
    "    '''\n",
    "    stage_config = {}\n",
    "    config_collection = []\n",
    "    paraIndex = ''\n",
    "\n",
    "    try:\n",
    "        with open('configdemo.txt', 'r') as config_inFile:\n",
    "\n",
    "            for line in config_inFile:\n",
    "                # if it is a config block and non-empty\n",
    "                # add the dictionary to our collection\n",
    "                if _isInstrumentBlock(line) and len(stage_config) > 1:\n",
    "                    # If it is a laser, configure for every channel\n",
    "                    if _isLaser(stage_config):\n",
    "                        stage_config = _makeMoreLasers(stage_config)\n",
    "                        \n",
    "                    config_collection.append(stage_config)\n",
    "                    stage_config = {}\n",
    "\n",
    "                # Set the key for the dictionary\n",
    "                if _isInstrumentBlock(line):\n",
    "                    paraIndex = 'Stage'\n",
    "\n",
    "                if _isDeviceDesignator(line):\n",
    "                    paraIndex = line[1]\n",
    "\n",
    "                # Set the value for the dictionary\n",
    "                if _isInformation(line):\n",
    "                    stage_config[paraIndex]=line[0:-1] # add to collection\n",
    "\n",
    "    except Exception as e:\n",
    "        print 'Problem with config file:\\n' + str(e)\n",
    "    \n",
    "    return _flatten(config_collection)\n",
    "\n",
    "def _isInformation(line):\n",
    "    '''determines if a line is device information'''\n",
    "    if line[0] != '#' and line:\n",
    "        return True\n",
    "    else:\n",
    "        return False\n",
    "\n",
    "def _isDeviceDesignator(line):\n",
    "    '''Determines if line is device designator'''\n",
    "    if line[0] == '#' and line[1] != '#':\n",
    "        return True\n",
    "    else:\n",
    "        return False\n",
    "\n",
    "def _isInstrumentBlock(line):\n",
    "    '''Determines if the line in the config file is beginning or ending a instrument block'''\n",
    "    if line[0:2] == '##':\n",
    "        return True\n",
    "    else:\n",
    "        return False\n",
    "    \n",
    "def _isLaser(stage_config):\n",
    "    for entry in stage_config:\n",
    "        if 'N' in entry:\n",
    "            return True\n",
    "        \n",
    "def _makeMoreLasers(stage_config):\n",
    "    n = stage_config['N']\n",
    "    begin, end = _format(n)\n",
    "    toReturn = []\n",
    "    for i in range(begin, end+1):\n",
    "        new_entry = stage_config.copy()\n",
    "        new_entry['N'] = str(i)\n",
    "        toReturn.append(new_entry)\n",
    "    return toReturn    \n",
    "    \n",
    "def _format(n):\n",
    "    n = [int(i) for i in n.split(',')]\n",
    "    n.sort()\n",
    "    return n[0], n[-1]\n",
    "\n",
    "def _flatten(config_collection):\n",
    "    toReturn = []\n",
    "    for i in config_collection:\n",
    "        if type(i) == list:\n",
    "            for item in i:\n",
    "                toReturn.append(item)\n",
    "        else:\n",
    "            toReturn.append(i)\n",
    "            \n",
    "    return toReturn"
   ]
  },
  {
   "cell_type": "code",
   "execution_count": 4,
   "metadata": {
    "collapsed": true
   },
   "outputs": [],
   "source": [
    "x = read_config()"
   ]
  },
  {
   "cell_type": "code",
   "execution_count": 5,
   "metadata": {},
   "outputs": [
    {
     "data": {
      "text/plain": [
       "[{'O': 'E', 'Stage': 'O', 'X': 'COM12', 'Y': 'COM13', 'Z': 'COM14'},\n",
       " {'A': '-0.53',\n",
       "  'O': 'W',\n",
       "  'Stage': 'O',\n",
       "  'X': 'COM19',\n",
       "  'Y': 'COM18',\n",
       "  'Z': 'COM20'},\n",
       " {'A': '0.122', 'O': 'S', 'Stage': 'E', 'X': 'COM8', 'Y': 'COM5', 'Z': 'COM6'},\n",
       " {'E': 'EMPTY', 'O': 'S', 'R': 'COM3', 'Stage': 'C', 'W': 'EMPTY'},\n",
       " {'A': 'GPIB0::24::INSTR', 'N': '1', 'O': 'AndoAQ4321', 'Stage': 'M'},\n",
       " {'A': 'GPIB0::24::INSTR', 'N': '2', 'O': 'AndoAQ4321', 'Stage': 'M'},\n",
       " {'A': 'GPIB0::24::INSTR', 'N': '3', 'O': 'AndoAQ4321', 'Stage': 'M'},\n",
       " {'A': 'GPIB0::24::INSTR', 'N': '4', 'O': 'AndoAQ4321', 'Stage': 'M'},\n",
       " {'A': 'GPIB0::14::INSTR', 'O': 'HP8163A', 'Stage': 'M'},\n",
       " {'A': 'GPIB0::21::INSTR', 'N': '1', 'O': 'Keithley2400', 'Stage': 'M'},\n",
       " {'A': 'GPIB0::21::INSTR', 'N': '2', 'O': 'Keithley2400', 'Stage': 'M'},\n",
       " {'A': 'GPIB0::21::INSTR', 'N': '3', 'O': 'Keithley2400', 'Stage': 'M'},\n",
       " {'A': 'GPIB0::23::INSTR', 'N': '1', 'O': 'AnritsuMS2667C', 'Stage': 'M'},\n",
       " {'A': 'GPIB0::23::INSTR', 'N': '2', 'O': 'AnritsuMS2667C', 'Stage': 'M'},\n",
       " {'A': 'GPIB0::23::INSTR', 'N': '3', 'O': 'AnritsuMS2667C', 'Stage': 'M'},\n",
       " {'A': 'GPIB0::23::INSTR', 'N': '4', 'O': 'AnritsuMS2667C', 'Stage': 'M'},\n",
       " {'A': 'GPIB0::23::INSTR', 'N': '5', 'O': 'AnritsuMS2667C', 'Stage': 'M'},\n",
       " {'A': 'GPIB0::28::INSTR', 'O': 'RSY01', 'Stage': 'M'},\n",
       " {'A': 'COM4', 'O': 'AEDFA_IL_23_B_FA', 'Stage': 'M'}]"
      ]
     },
     "execution_count": 5,
     "metadata": {},
     "output_type": "execute_result"
    }
   ],
   "source": [
    "x"
   ]
  }
 ],
 "metadata": {
  "kernelspec": {
   "display_name": "Python 2",
   "language": "python",
   "name": "python2"
  },
  "language_info": {
   "codemirror_mode": {
    "name": "ipython",
    "version": 2
   },
   "file_extension": ".py",
   "mimetype": "text/x-python",
   "name": "python",
   "nbconvert_exporter": "python",
   "pygments_lexer": "ipython2",
   "version": "2.7.11"
  }
 },
 "nbformat": 4,
 "nbformat_minor": 2
}
