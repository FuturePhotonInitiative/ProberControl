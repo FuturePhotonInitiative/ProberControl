{
 "cells": [
  {
   "cell_type": "code",
   "execution_count": 1,
   "metadata": {
    "collapsed": true
   },
   "outputs": [],
   "source": [
    "import sys, os, string, inspect"
   ]
  },
  {
   "cell_type": "code",
   "execution_count": 28,
   "metadata": {
    "collapsed": true
   },
   "outputs": [],
   "source": [
    "def myFunction():\n",
    "    cur =  inspect.currentframe()\n",
    "    # ID( of the object that called me verifying local namespace 'self' variable )\n",
    "    for i in inspect.stack(context=0):\n",
    "        print i\n",
    "#     print inspect.stack(context=0)[1][0].f_locals\n",
    "#     print inspect.stack(context=0)[1][0].f_locals['self']\n",
    "#     print id(inspect.stack(context=1)[1][0].f_locals['self'])\n",
    "\n",
    "class foo(object):\n",
    "    def __init__(self,active= True):\n",
    "        self.active = active\n",
    "\n",
    "    def isActive(self):\n",
    "        x = 'whatever'\n",
    "        return myFunction()\n",
    "    \n",
    "    def getID(self):\n",
    "        return id(self)"
   ]
  },
  {
   "cell_type": "code",
   "execution_count": 29,
   "metadata": {
    "collapsed": true
   },
   "outputs": [],
   "source": [
    "bar = foo()\n",
    "# print bar\n",
    "# print id(bar)\n",
    "# print bar.isActive"
   ]
  },
  {
   "cell_type": "code",
   "execution_count": 30,
   "metadata": {
    "scrolled": false
   },
   "outputs": [
    {
     "name": "stdout",
     "output_type": "stream",
     "text": [
      "(<frame object at 0x03EB84C8>, '<ipython-input-28-e6802e7626a3>', 4, 'myFunction', None, None)\n",
      "(<frame object at 0x03E98E90>, '<ipython-input-28-e6802e7626a3>', 16, 'isActive', None, None)\n",
      "(<frame object at 0x03EA0E90>, '<ipython-input-30-4ee2698bcaa3>', 1, '<module>', None, None)\n",
      "(<frame object at 0x03EA2C70>, 'c:\\\\python27\\\\lib\\\\site-packages\\\\IPython\\\\core\\\\interactiveshell.py', 2881, 'run_code', None, None)\n",
      "(<frame object at 0x03EA54E0>, 'c:\\\\python27\\\\lib\\\\site-packages\\\\IPython\\\\core\\\\interactiveshell.py', 2827, 'run_ast_nodes', None, None)\n",
      "(<frame object at 0x03EA95D0>, 'c:\\\\python27\\\\lib\\\\site-packages\\\\IPython\\\\core\\\\interactiveshell.py', 2717, 'run_cell', None, None)\n",
      "(<frame object at 0x03E9D738>, 'c:\\\\python27\\\\lib\\\\site-packages\\\\ipykernel\\\\zmqshell.py', 533, 'run_cell', None, None)\n",
      "(<frame object at 0x03EB7360>, 'c:\\\\python27\\\\lib\\\\site-packages\\\\ipykernel\\\\ipkernel.py', 196, 'do_execute', None, None)\n",
      "(<frame object at 0x03EA76D0>, 'c:\\\\python27\\\\lib\\\\site-packages\\\\ipykernel\\\\kernelbase.py', 399, 'execute_request', None, None)\n",
      "(<frame object at 0x03EB8960>, 'c:\\\\python27\\\\lib\\\\site-packages\\\\ipykernel\\\\kernelbase.py', 235, 'dispatch_shell', None, None)\n",
      "(<frame object at 0x03E9D5D0>, 'c:\\\\python27\\\\lib\\\\site-packages\\\\ipykernel\\\\kernelbase.py', 283, 'dispatcher', None, None)\n",
      "(<frame object at 0x03EB8AE8>, 'c:\\\\python27\\\\lib\\\\site-packages\\\\tornado\\\\stack_context.py', 277, 'null_wrapper', None, None)\n",
      "(<frame object at 0x02A7C030>, 'c:\\\\python27\\\\lib\\\\site-packages\\\\zmq\\\\eventloop\\\\zmqstream.py', 414, '_run_callback', None, None)\n",
      "(<frame object at 0x03EA0030>, 'c:\\\\python27\\\\lib\\\\site-packages\\\\zmq\\\\eventloop\\\\zmqstream.py', 472, '_handle_recv', None, None)\n",
      "(<frame object at 0x03E9D468>, 'c:\\\\python27\\\\lib\\\\site-packages\\\\zmq\\\\eventloop\\\\zmqstream.py', 440, '_handle_events', None, None)\n",
      "(<frame object at 0x03EA2650>, 'c:\\\\python27\\\\lib\\\\site-packages\\\\tornado\\\\stack_context.py', 277, 'null_wrapper', None, None)\n",
      "(<frame object at 0x03ADE6D0>, 'c:\\\\python27\\\\lib\\\\site-packages\\\\tornado\\\\ioloop.py', 888, 'start', None, None)\n",
      "(<frame object at 0x02A64B70>, 'c:\\\\python27\\\\lib\\\\site-packages\\\\zmq\\\\eventloop\\\\ioloop.py', 177, 'start', None, None)\n",
      "(<frame object at 0x03A93498>, 'c:\\\\python27\\\\lib\\\\site-packages\\\\ipykernel\\\\kernelapp.py', 477, 'start', None, None)\n",
      "(<frame object at 0x039205D0>, 'c:\\\\python27\\\\lib\\\\site-packages\\\\traitlets\\\\config\\\\application.py', 658, 'launch_instance', None, None)\n",
      "(<frame object at 0x02469438>, 'c:\\\\python27\\\\lib\\\\site-packages\\\\ipykernel_launcher.py', 16, '<module>', None, None)\n",
      "(<frame object at 0x0246FCB0>, 'c:\\\\python27\\\\lib\\\\runpy.py', 72, '_run_code', None, None)\n",
      "(<frame object at 0x0246FB20>, 'c:\\\\python27\\\\lib\\\\runpy.py', 162, '_run_module_as_main', None, None)\n"
     ]
    }
   ],
   "source": [
    "bar.isActive()"
   ]
  },
  {
   "cell_type": "code",
   "execution_count": 6,
   "metadata": {
    "collapsed": true
   },
   "outputs": [],
   "source": [
    "funky = funk()\n",
    "# print funky\n",
    "# print id(funky)\n",
    "# print funk.isActive"
   ]
  },
  {
   "cell_type": "code",
   "execution_count": 7,
   "metadata": {},
   "outputs": [
    {
     "name": "stdout",
     "output_type": "stream",
     "text": [
      "[(<frame object at 0x02A87A40>, '<ipython-input-2-cc52a3c169bf>', 4, 'myFunction', None, None), (<frame object at 0x02A87BB0>, '<ipython-input-2-cc52a3c169bf>', 26, 'isActive', None, None), (<frame object at 0x03E98030>, '<ipython-input-7-61dd12146f36>', 1, '<module>', None, None), (<frame object at 0x02A7BDF8>, 'c:\\\\python27\\\\lib\\\\site-packages\\\\IPython\\\\core\\\\interactiveshell.py', 2881, 'run_code', None, None), (<frame object at 0x03D7D670>, 'c:\\\\python27\\\\lib\\\\site-packages\\\\IPython\\\\core\\\\interactiveshell.py', 2827, 'run_ast_nodes', None, None), (<frame object at 0x0372BD50>, 'c:\\\\python27\\\\lib\\\\site-packages\\\\IPython\\\\core\\\\interactiveshell.py', 2717, 'run_cell', None, None), (<frame object at 0x02A79B70>, 'c:\\\\python27\\\\lib\\\\site-packages\\\\ipykernel\\\\zmqshell.py', 533, 'run_cell', None, None), (<frame object at 0x03C67828>, 'c:\\\\python27\\\\lib\\\\site-packages\\\\ipykernel\\\\ipkernel.py', 196, 'do_execute', None, None), (<frame object at 0x03ADEA20>, 'c:\\\\python27\\\\lib\\\\site-packages\\\\ipykernel\\\\kernelbase.py', 399, 'execute_request', None, None), (<frame object at 0x02A7BC70>, 'c:\\\\python27\\\\lib\\\\site-packages\\\\ipykernel\\\\kernelbase.py', 235, 'dispatch_shell', None, None), (<frame object at 0x02A79A08>, 'c:\\\\python27\\\\lib\\\\site-packages\\\\ipykernel\\\\kernelbase.py', 283, 'dispatcher', None, None), (<frame object at 0x02A7B650>, 'c:\\\\python27\\\\lib\\\\site-packages\\\\tornado\\\\stack_context.py', 277, 'null_wrapper', None, None), (<frame object at 0x02A7C610>, 'c:\\\\python27\\\\lib\\\\site-packages\\\\zmq\\\\eventloop\\\\zmqstream.py', 414, '_run_callback', None, None), (<frame object at 0x02A66D68>, 'c:\\\\python27\\\\lib\\\\site-packages\\\\zmq\\\\eventloop\\\\zmqstream.py', 472, '_handle_recv', None, None), (<frame object at 0x03C3FCD8>, 'c:\\\\python27\\\\lib\\\\site-packages\\\\zmq\\\\eventloop\\\\zmqstream.py', 440, '_handle_events', None, None), (<frame object at 0x02A6F788>, 'c:\\\\python27\\\\lib\\\\site-packages\\\\tornado\\\\stack_context.py', 277, 'null_wrapper', None, None), (<frame object at 0x03ADE6D0>, 'c:\\\\python27\\\\lib\\\\site-packages\\\\tornado\\\\ioloop.py', 888, 'start', None, None), (<frame object at 0x02A64B70>, 'c:\\\\python27\\\\lib\\\\site-packages\\\\zmq\\\\eventloop\\\\ioloop.py', 177, 'start', None, None), (<frame object at 0x03A93498>, 'c:\\\\python27\\\\lib\\\\site-packages\\\\ipykernel\\\\kernelapp.py', 477, 'start', None, None), (<frame object at 0x039205D0>, 'c:\\\\python27\\\\lib\\\\site-packages\\\\traitlets\\\\config\\\\application.py', 658, 'launch_instance', None, None), (<frame object at 0x02469438>, 'c:\\\\python27\\\\lib\\\\site-packages\\\\ipykernel_launcher.py', 16, '<module>', None, None), (<frame object at 0x0246FCB0>, 'c:\\\\python27\\\\lib\\\\runpy.py', 72, '_run_code', None, None), (<frame object at 0x0246FB20>, 'c:\\\\python27\\\\lib\\\\runpy.py', 162, '_run_module_as_main', None, None)]\n",
      "(<frame object at 0x02A87BB0>, '<ipython-input-2-cc52a3c169bf>', 26, 'isActive', None, None)\n",
      "<frame object at 0x02A87BB0>\n",
      "{'self': <__main__.funk object at 0x03E91570>}\n",
      "<__main__.funk object at 0x03E91570>\n",
      "65607024\n"
     ]
    },
    {
     "data": {
      "text/plain": [
       "False"
      ]
     },
     "execution_count": 7,
     "metadata": {},
     "output_type": "execute_result"
    }
   ],
   "source": [
    "funky.isActive() == id(funky)"
   ]
  },
  {
   "cell_type": "code",
   "execution_count": 10,
   "metadata": {},
   "outputs": [
    {
     "data": {
      "text/plain": [
       "False"
      ]
     },
     "execution_count": 10,
     "metadata": {},
     "output_type": "execute_result"
    }
   ],
   "source": [
    "funky.isActive() == id(bar)"
   ]
  },
  {
   "cell_type": "code",
   "execution_count": 11,
   "metadata": {},
   "outputs": [
    {
     "data": {
      "text/plain": [
       "False"
      ]
     },
     "execution_count": 11,
     "metadata": {},
     "output_type": "execute_result"
    }
   ],
   "source": [
    "funky.isActive() == bar.isActive()"
   ]
  }
 ],
 "metadata": {
  "kernelspec": {
   "display_name": "Python 2",
   "language": "python",
   "name": "python2"
  },
  "language_info": {
   "codemirror_mode": {
    "name": "ipython",
    "version": 2
   },
   "file_extension": ".py",
   "mimetype": "text/x-python",
   "name": "python",
   "nbconvert_exporter": "python",
   "pygments_lexer": "ipython2",
   "version": "2.7.11"
  }
 },
 "nbformat": 4,
 "nbformat_minor": 2
}
